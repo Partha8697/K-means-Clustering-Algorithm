{
  "nbformat": 4,
  "nbformat_minor": 0,
  "metadata": {
    "colab": {
      "provenance": []
    },
    "kernelspec": {
      "name": "python3",
      "display_name": "Python 3"
    },
    "language_info": {
      "name": "python"
    }
  },
  "cells": [
    {
      "cell_type": "code",
      "execution_count": 23,
      "metadata": {
        "id": "zlixcWfj0naR"
      },
      "outputs": [],
      "source": [
        "import matplotlib.pyplot as plt\n",
        "import random"
      ]
    },
    {
      "cell_type": "code",
      "source": [
        "X = [[1,1], [1,0], [2,0], [2,4], [3,5]]"
      ],
      "metadata": {
        "id": "_NxiONmx1Dh4"
      },
      "execution_count": 24,
      "outputs": []
    },
    {
      "cell_type": "code",
      "source": [
        "xpoints = []\n",
        "ypoints = []\n",
        "\n",
        "for i in range(len(X)):\n",
        "  xpoints.append(X[i][0])\n",
        "  ypoints.append(X[i][1])\n",
        "\n",
        "plt.scatter(xpoints, ypoints)\n",
        "plt.show()"
      ],
      "metadata": {
        "colab": {
          "base_uri": "https://localhost:8080/",
          "height": 430
        },
        "id": "_bJRB0kO6mYa",
        "outputId": "4cc4f9bf-32a6-4ed6-ad8d-59e1047f249e"
      },
      "execution_count": 25,
      "outputs": [
        {
          "output_type": "display_data",
          "data": {
            "text/plain": [
              "<Figure size 640x480 with 1 Axes>"
            ],
            "image/png": "[encoded data removed]"
          },
          "metadata": {}
        }
      ]
    },
    {
      "cell_type": "code",
      "source": [
        "def initialize_centroids(data, k):\n",
        "  if k > len(data):\n",
        "    print(\"K should be less than data points\")\n",
        "    return None\n",
        "  else:\n",
        "    centriods = random.sample(data, k)\n",
        "    return centriods"
      ],
      "metadata": {
        "id": "GyAhMgfXDvVP"
      },
      "execution_count": 26,
      "outputs": []
    },
    {
      "cell_type": "code",
      "source": [
        "centroids = initialize_centroids(X, 2)\n",
        "centroids"
      ],
      "metadata": {
        "colab": {
          "base_uri": "https://localhost:8080/"
        },
        "id": "4ci67IRtBolZ",
        "outputId": "9526ab7d-9e08-4c84-a2e6-b3cf0a0c8fde"
      },
      "execution_count": 35,
      "outputs": [
        {
          "output_type": "execute_result",
          "data": {
            "text/plain": [
              "[[1, 0], [3, 5]]"
            ]
          },
          "metadata": {},
          "execution_count": 35
        }
      ]
    },
    {
      "cell_type": "code",
      "source": [
        "def get_distance(p1, p2):\n",
        "  return ((p1[0] - p2[0]) ** 2 + (p1[1] - p2[1]) ** 2) ** 0.5\n",
        "\n",
        "def create_cluster(data, centroids):\n",
        "  clusters = []\n",
        "  for point in data:\n",
        "        distances = [get_distance(point, centroid) for centroid in centroids]\n",
        "        cluster_index = distances.index(min(distances))\n",
        "        clusters.append(cluster_index)\n",
        "\n",
        "  return clusters"
      ],
      "metadata": {
        "id": "MvORACNY9p10"
      },
      "execution_count": 40,
      "outputs": []
    },
    {
      "cell_type": "code",
      "source": [
        "temp = create_cluster(X, centroids)\n",
        "temp"
      ],
      "metadata": {
        "colab": {
          "base_uri": "https://localhost:8080/"
        },
        "id": "AHSgLpbDmc_N",
        "outputId": "3e4435c1-0769-4744-9ebe-9d3d1572fa74"
      },
      "execution_count": 41,
      "outputs": [
        {
          "output_type": "execute_result",
          "data": {
            "text/plain": [
              "[0, 0, 0, 1, 1]"
            ]
          },
          "metadata": {},
          "execution_count": 41
        }
      ]
    },
    {
      "cell_type": "code",
      "source": [
        "def update_centroids(data, clusters, k):\n",
        "    new_centroids = []\n",
        "    for i in range(k):\n",
        "        cluster_points = [data[j] for j in range(len(data)) if clusters[j] == i]\n",
        "        print(cluster_points)\n",
        "        if cluster_points:\n",
        "            new_centroid = [sum(point[i] for point in cluster_points) / len(cluster_points) for i in range(len(data[0]))]\n",
        "            new_centroids.append(new_centroid)\n",
        "    return new_centroids"
      ],
      "metadata": {
        "id": "XRB9dttUy8sh"
      },
      "execution_count": 42,
      "outputs": []
    },
    {
      "cell_type": "code",
      "source": [
        "new = update_centroids(X, temp, 2)\n",
        "new"
      ],
      "metadata": {
        "colab": {
          "base_uri": "https://localhost:8080/"
        },
        "id": "aEXpuqaB8B0p",
        "outputId": "255c59ef-dc42-47d0-94c9-82eec3d69694"
      },
      "execution_count": 43,
      "outputs": [
        {
          "output_type": "stream",
          "name": "stdout",
          "text": [
            "[[1, 1], [1, 0], [2, 0]]\n",
            "[[2, 4], [3, 5]]\n"
          ]
        },
        {
          "output_type": "execute_result",
          "data": {
            "text/plain": [
              "[[1.3333333333333333, 0.3333333333333333], [2.5, 4.5]]"
            ]
          },
          "metadata": {},
          "execution_count": 43
        }
      ]
    },
    {
      "cell_type": "code",
      "source": [
        "def kmeans(data, k, max_iterations=100):\n",
        "    centroids = initialize_centroids(data, k)\n",
        "\n",
        "    for _ in range(max_iterations):\n",
        "        clusters = create_cluster(data, centroids)\n",
        "        new_centroids = update_centroids(data, clusters, k)\n",
        "\n",
        "        if centroids == new_centroids:\n",
        "            break\n",
        "\n",
        "        centroids = new_centroids\n",
        "\n",
        "    return centroids, clusters"
      ],
      "metadata": {
        "id": "_cfRNs4YzBQr"
      },
      "execution_count": 44,
      "outputs": []
    },
    {
      "cell_type": "code",
      "source": [
        "k = 2\n",
        "centroids, clusters = kmeans(X, k)\n",
        "\n",
        "for i in range(k):\n",
        "    cluster_points = [X[j] for j in range(len(X)) if clusters[j] == i]\n",
        "    plt.scatter([point[0] for point in cluster_points], [point[1] for point in cluster_points], label=f'Cluster {i + 1}')\n",
        "\n",
        "plt.scatter([centroid[0] for centroid in centroids], [centroid[1] for centroid in centroids], marker='X', s=200, c='red', label='Centroids')\n",
        "\n",
        "plt.title('K-means Clustering')\n",
        "plt.xlabel('Feature 1')\n",
        "plt.ylabel('Feature 2')\n",
        "plt.legend()\n",
        "plt.show()"
      ],
      "metadata": {
        "colab": {
          "base_uri": "https://localhost:8080/",
          "height": 576
        },
        "id": "H8bFJtRT8f_E",
        "outputId": "73349287-04c0-41e0-83c5-d1c3720b08ee"
      },
      "execution_count": 47,
      "outputs": [
        {
          "output_type": "stream",
          "name": "stdout",
          "text": [
            "[[1, 0], [2, 0]]\n",
            "[[1, 1], [2, 4], [3, 5]]\n",
            "[[1, 1], [1, 0], [2, 0]]\n",
            "[[2, 4], [3, 5]]\n",
            "[[1, 1], [1, 0], [2, 0]]\n",
            "[[2, 4], [3, 5]]\n"
          ]
        },
        {
          "output_type": "display_data",
          "data": {
            "text/plain": [
              "<Figure size 640x480 with 1 Axes>"
            ],
            "image/png": "[encoded data removed]"
          },
          "metadata": {}
        }
      ]
    }
  ]
}